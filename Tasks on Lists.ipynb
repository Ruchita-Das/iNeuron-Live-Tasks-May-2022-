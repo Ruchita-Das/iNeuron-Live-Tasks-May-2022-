{
 "cells": [
  {
   "cell_type": "code",
   "execution_count": 1,
   "id": "b078960d",
   "metadata": {},
   "outputs": [],
   "source": [
    "l = [3,4,5,6,7 , [23,456,67,8,78,78] , [345,56,87,8,98,9] , (234,6657,6) , {\"key1\" :\"sudh\" , 234:[23,45,656]}]"
   ]
  },
  {
   "cell_type": "markdown",
   "id": "36d000e9",
   "metadata": {},
   "source": [
    "1 . Try to reverse a list"
   ]
  },
  {
   "cell_type": "code",
   "execution_count": 70,
   "id": "3886e214",
   "metadata": {},
   "outputs": [
    {
     "data": {
      "text/plain": [
       "[{'key1': 'sudh', 234: [23, 45, 656]},\n",
       " (234, 6657, 6),\n",
       " [345, 56, 87, 8, 98, 9],\n",
       " [23, 456, 67, 8, 78, 78],\n",
       " 7,\n",
       " 6,\n",
       " 5,\n",
       " 4,\n",
       " 3]"
      ]
     },
     "execution_count": 70,
     "metadata": {},
     "output_type": "execute_result"
    }
   ],
   "source": [
    "l.reverse()\n",
    "\n",
    "l"
   ]
  },
  {
   "cell_type": "markdown",
   "id": "5030af39",
   "metadata": {},
   "source": [
    "2 . Try to access 234 out of this list"
   ]
  },
  {
   "cell_type": "code",
   "execution_count": 124,
   "id": "22b99645",
   "metadata": {},
   "outputs": [
    {
     "name": "stdout",
     "output_type": "stream",
     "text": [
      "234\n",
      "234\n"
     ]
    }
   ],
   "source": [
    "for item in l:\n",
    "    if type(item) == tuple:\n",
    "        for element in item:\n",
    "            if element==234:\n",
    "                print(element)\n",
    "    elif type(item) == dict:\n",
    "        for key, value in item.items():\n",
    "            if key==234:\n",
    "                print(key)"
   ]
  },
  {
   "cell_type": "markdown",
   "id": "6c5cbd33",
   "metadata": {},
   "source": [
    "3 . Try to access 456"
   ]
  },
  {
   "cell_type": "code",
   "execution_count": 128,
   "id": "c31f2d11",
   "metadata": {},
   "outputs": [
    {
     "name": "stdout",
     "output_type": "stream",
     "text": [
      "456\n"
     ]
    }
   ],
   "source": [
    "new=l[5]\n",
    "new\n",
    "print(new[1])"
   ]
  },
  {
   "cell_type": "markdown",
   "id": "d9627c83",
   "metadata": {},
   "source": [
    "4 . Try to extract only a list collection form list l"
   ]
  },
  {
   "cell_type": "code",
   "execution_count": 3,
   "id": "a769b968",
   "metadata": {},
   "outputs": [
    {
     "name": "stdout",
     "output_type": "stream",
     "text": [
      "[23, 456, 67, 8, 78, 78]\n",
      "[345, 56, 87, 8, 98, 9]\n",
      "[23, 45, 656]\n"
     ]
    }
   ],
   "source": [
    "for items in l:\n",
    "    if type(items)==list:\n",
    "        print(items)\n",
    "    elif type(items)==dict:\n",
    "        for key,values in items.items():\n",
    "            if type(values)==list:\n",
    "                print(values)"
   ]
  },
  {
   "cell_type": "markdown",
   "id": "35eccdf3",
   "metadata": {},
   "source": [
    "5 . Try to extract \"sudh\""
   ]
  },
  {
   "cell_type": "code",
   "execution_count": 151,
   "id": "cd796cf5",
   "metadata": {},
   "outputs": [
    {
     "name": "stdout",
     "output_type": "stream",
     "text": [
      "sudh\n"
     ]
    }
   ],
   "source": [
    "for item in l:\n",
    "    if type(item)==dict:\n",
    "        for key,values in item.items():\n",
    "            if values==\"sudh\":\n",
    "                print(values)"
   ]
  },
  {
   "cell_type": "markdown",
   "id": "cd6c2700",
   "metadata": {},
   "source": [
    "6 . Try to list all the key in dict element avaible in list"
   ]
  },
  {
   "cell_type": "code",
   "execution_count": 5,
   "id": "8bd064cb",
   "metadata": {},
   "outputs": [
    {
     "name": "stdout",
     "output_type": "stream",
     "text": [
      "key1\n",
      "234\n"
     ]
    }
   ],
   "source": [
    "for item in l:\n",
    "    if type(item)==dict:\n",
    "        for key,values in item.items():\n",
    "            print(key)"
   ]
  },
  {
   "cell_type": "markdown",
   "id": "f227b324",
   "metadata": {},
   "source": [
    "7 . Try to extract all the value element form dict available in list"
   ]
  },
  {
   "cell_type": "code",
   "execution_count": 6,
   "id": "8106a5af",
   "metadata": {},
   "outputs": [
    {
     "name": "stdout",
     "output_type": "stream",
     "text": [
      "sudh\n",
      "[23, 45, 656]\n"
     ]
    }
   ],
   "source": [
    "for item in l:\n",
    "    if type(item)==dict:\n",
    "        for key,values in item.items():\n",
    "            print(values)"
   ]
  },
  {
   "cell_type": "code",
   "execution_count": null,
   "id": "4a7dd400",
   "metadata": {},
   "outputs": [],
   "source": []
  }
 ],
 "metadata": {
  "kernelspec": {
   "display_name": "Python 3 (ipykernel)",
   "language": "python",
   "name": "python3"
  },
  "language_info": {
   "codemirror_mode": {
    "name": "ipython",
    "version": 3
   },
   "file_extension": ".py",
   "mimetype": "text/x-python",
   "name": "python",
   "nbconvert_exporter": "python",
   "pygments_lexer": "ipython3",
   "version": "3.11.4"
  }
 },
 "nbformat": 4,
 "nbformat_minor": 5
}
