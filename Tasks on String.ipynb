{
 "cells": [
  {
   "cell_type": "code",
   "execution_count": 3,
   "id": "8c10b3f0",
   "metadata": {},
   "outputs": [],
   "source": [
    " s = \"this is My First Python programming class and i am learNING python string and its function\""
   ]
  },
  {
   "cell_type": "markdown",
   "id": "f7e3778c",
   "metadata": {},
   "source": [
    "1.Try to extract data from index one to index 300 with a jump 0f 3"
   ]
  },
  {
   "cell_type": "code",
   "execution_count": 4,
   "id": "dfb48702",
   "metadata": {},
   "outputs": [
    {
     "data": {
      "text/plain": [
       "'h   r tnrrmglsnimeNGyosi dtfco'"
      ]
     },
     "execution_count": 4,
     "metadata": {},
     "output_type": "execute_result"
    }
   ],
   "source": [
    "s[1:300:3]"
   ]
  },
  {
   "cell_type": "markdown",
   "id": "681ac53a",
   "metadata": {},
   "source": [
    "2.Try to reverse a string without using reverse function"
   ]
  },
  {
   "cell_type": "code",
   "execution_count": 11,
   "id": "85ed5a7a",
   "metadata": {},
   "outputs": [
    {
     "data": {
      "text/plain": [
       "'noitcnuf sti dna gnirts nohtyp GNINrael ma i dna ssalc gnimmargorp nohtyP tsriF yM si siht'"
      ]
     },
     "execution_count": 11,
     "metadata": {},
     "output_type": "execute_result"
    }
   ],
   "source": [
    "s[::-1]"
   ]
  },
  {
   "cell_type": "markdown",
   "id": "a730d32a",
   "metadata": {},
   "source": [
    "3.Try to split a string after conversion of entire string in uppercase"
   ]
  },
  {
   "cell_type": "code",
   "execution_count": 14,
   "id": "a7e0ca2a",
   "metadata": {},
   "outputs": [
    {
     "data": {
      "text/plain": [
       "'THIS IS MY FIRST PYTHON PROGRAMMING CLASS AND I AM LEARNING PYTHON STRING AND ITS FUNCTION'"
      ]
     },
     "execution_count": 14,
     "metadata": {},
     "output_type": "execute_result"
    }
   ],
   "source": [
    "up=s.upper()\n",
    "up"
   ]
  },
  {
   "cell_type": "code",
   "execution_count": 15,
   "id": "406e3d55",
   "metadata": {},
   "outputs": [
    {
     "data": {
      "text/plain": [
       "['THIS',\n",
       " 'IS',\n",
       " 'MY',\n",
       " 'FIRST',\n",
       " 'PYTHON',\n",
       " 'PROGRAMMING',\n",
       " 'CLASS',\n",
       " 'AND',\n",
       " 'I',\n",
       " 'AM',\n",
       " 'LEARNING',\n",
       " 'PYTHON',\n",
       " 'STRING',\n",
       " 'AND',\n",
       " 'ITS',\n",
       " 'FUNCTION']"
      ]
     },
     "execution_count": 15,
     "metadata": {},
     "output_type": "execute_result"
    }
   ],
   "source": [
    "up.split()"
   ]
  },
  {
   "cell_type": "markdown",
   "id": "87eeebef",
   "metadata": {},
   "source": [
    "4.Try to convert whole string into lower case"
   ]
  },
  {
   "cell_type": "code",
   "execution_count": 16,
   "id": "ba0c7b65",
   "metadata": {},
   "outputs": [
    {
     "data": {
      "text/plain": [
       "'this is my first python programming class and i am learning python string and its function'"
      ]
     },
     "execution_count": 16,
     "metadata": {},
     "output_type": "execute_result"
    }
   ],
   "source": [
    "s.lower()"
   ]
  },
  {
   "cell_type": "markdown",
   "id": "8a1a5b22",
   "metadata": {},
   "source": [
    "5.Try to capitalize whole string"
   ]
  },
  {
   "cell_type": "code",
   "execution_count": 18,
   "id": "6273c654",
   "metadata": {},
   "outputs": [
    {
     "data": {
      "text/plain": [
       "'This is my first python programming class and i am learning python string and its function'"
      ]
     },
     "execution_count": 18,
     "metadata": {},
     "output_type": "execute_result"
    }
   ],
   "source": [
    "s.capitalize()"
   ]
  },
  {
   "cell_type": "markdown",
   "id": "e2f6657d",
   "metadata": {},
   "source": [
    "6.Write difference between isalnum() and isalpha()"
   ]
  },
  {
   "cell_type": "code",
   "execution_count": 19,
   "id": "281eec9b",
   "metadata": {},
   "outputs": [
    {
     "data": {
      "text/plain": [
       "False"
      ]
     },
     "execution_count": 19,
     "metadata": {},
     "output_type": "execute_result"
    }
   ],
   "source": [
    "s.isalnum()"
   ]
  },
  {
   "cell_type": "code",
   "execution_count": 22,
   "id": "3b676c17",
   "metadata": {},
   "outputs": [
    {
     "data": {
      "text/plain": [
       "False"
      ]
     },
     "execution_count": 22,
     "metadata": {},
     "output_type": "execute_result"
    }
   ],
   "source": [
    "s.isalpha()"
   ]
  },
  {
   "cell_type": "markdown",
   "id": "41881457",
   "metadata": {},
   "source": [
    "The isalnum() method checks whether all the characters in a string are alphanumeric.\n",
    "It returns True if all characters in the string are alphanumeric (i.e., alphabetic characters [a-zA-Z] and numeric characters [0-9]), and the string contains at least one character.\n",
    "It returns False if the string is empty or if it contains any non-alphanumeric characters.\n",
    "isalpha():\n",
    "\n",
    "The isalpha() method checks whether all the characters in a string are alphabetic.\n",
    "It returns True if all characters in the string are alphabetic (i.e., letters [a-zA-Z]), and the string contains at least one character.\n",
    "It returns False if the string is empty or if it contains any non-alphabetic characters, including spaces, digits, or special characters."
   ]
  },
  {
   "cell_type": "markdown",
   "id": "57750f97",
   "metadata": {},
   "source": [
    "7.Try to give an example of expand tab"
   ]
  },
  {
   "cell_type": "code",
   "execution_count": 9,
   "id": "80fceef5",
   "metadata": {},
   "outputs": [
    {
     "data": {
      "text/plain": [
       "'ruchita das'"
      ]
     },
     "execution_count": 9,
     "metadata": {},
     "output_type": "execute_result"
    }
   ],
   "source": [
    "n=\"ruchita\\tdas\"  \n",
    "n.expandtabs()"
   ]
  },
  {
   "cell_type": "markdown",
   "id": "ac42af63",
   "metadata": {},
   "source": [
    "8.Give an example of strip, lstrip and rstrip"
   ]
  },
  {
   "cell_type": "code",
   "execution_count": 14,
   "id": "4a4552e8",
   "metadata": {},
   "outputs": [],
   "source": [
    "s=\" suresh is a banker \""
   ]
  },
  {
   "cell_type": "code",
   "execution_count": 15,
   "id": "1e326108",
   "metadata": {},
   "outputs": [
    {
     "data": {
      "text/plain": [
       "'suresh is a banker '"
      ]
     },
     "execution_count": 15,
     "metadata": {},
     "output_type": "execute_result"
    }
   ],
   "source": [
    "s.lstrip()"
   ]
  },
  {
   "cell_type": "code",
   "execution_count": 16,
   "id": "85217a68",
   "metadata": {},
   "outputs": [
    {
     "data": {
      "text/plain": [
       "'suresh is a banker'"
      ]
     },
     "execution_count": 16,
     "metadata": {},
     "output_type": "execute_result"
    }
   ],
   "source": [
    "s.strip()"
   ]
  },
  {
   "cell_type": "code",
   "execution_count": 17,
   "id": "74e17f30",
   "metadata": {},
   "outputs": [
    {
     "data": {
      "text/plain": [
       "' suresh is a banker'"
      ]
     },
     "execution_count": 17,
     "metadata": {},
     "output_type": "execute_result"
    }
   ],
   "source": [
    "s.rstrip()"
   ]
  },
  {
   "cell_type": "markdown",
   "id": "9f7beedf",
   "metadata": {},
   "source": [
    "9.Replace a string character by another character by taking your own example"
   ]
  },
  {
   "cell_type": "code",
   "execution_count": 31,
   "id": "cf17e1c9",
   "metadata": {},
   "outputs": [],
   "source": [
    "fruit='mango'"
   ]
  },
  {
   "cell_type": "code",
   "execution_count": 24,
   "id": "1160b70c",
   "metadata": {},
   "outputs": [
    {
     "data": {
      "text/plain": [
       "'manko'"
      ]
     },
     "execution_count": 24,
     "metadata": {},
     "output_type": "execute_result"
    }
   ],
   "source": [
    "fruitnew=fruit.replace(\"g\",\"k\")\n",
    "fruitnew"
   ]
  },
  {
   "cell_type": "markdown",
   "id": "aa97b9cc",
   "metadata": {},
   "source": [
    "10.Try to give a definition of string center function with an example"
   ]
  },
  {
   "cell_type": "markdown",
   "id": "383bd0d0",
   "metadata": {},
   "source": [
    "The center() method in Python is used to center-align a string within a specified width. It pads the original string with spaces on the left and right sides to achieve the desired width, with the original string centered in between."
   ]
  },
  {
   "cell_type": "code",
   "execution_count": 40,
   "id": "bdaf4d19",
   "metadata": {},
   "outputs": [
    {
     "name": "stdout",
     "output_type": "stream",
     "text": [
      "Original string: zara\n",
      "Centered string:                        zara                       \n"
     ]
    }
   ],
   "source": [
    "\n",
    "original_string = \"zara\"\n",
    "\n",
    "width=10\n",
    "\n",
    "centered_string = original_string.center(50)\n",
    "\n",
    "print(\"Original string:\", original_string)\n",
    "print(\"Centered string:\", centered_string)\n"
   ]
  },
  {
   "cell_type": "code",
   "execution_count": 42,
   "id": "cd953a73",
   "metadata": {},
   "outputs": [
    {
     "data": {
      "text/plain": [
       "'xxxxxxxxxxxxxxxxxxxxxxxzaraxxxxxxxxxxxxxxxxxxxxxxx'"
      ]
     },
     "execution_count": 42,
     "metadata": {},
     "output_type": "execute_result"
    }
   ],
   "source": [
    "centered_string = original_string.center(50,'x')\n",
    "centered_string"
   ]
  },
  {
   "cell_type": "markdown",
   "id": "27feee14",
   "metadata": {},
   "source": [
    "11.Write your definition of compiler and interpretor without copy paste from internet"
   ]
  },
  {
   "cell_type": "markdown",
   "id": "2e876dc7",
   "metadata": {},
   "source": [
    "A compiler is a programAn interpreter is a program that reads and executes code written in a high-level programming language line by line or in small chunks. It does not translate the entire source code into machine code beforehand. Instead, it translates and executes the source code simultaneously as it encounters each line or statement.\n",
    "\n",
    "\n",
    "Interpreters can provide immediate feedback on syntax errors or runtime issues during execution that translates the entire source code of a high-level programming language into machine code or an equivalent low-level code known as an object code. It performs this translation all at once, generating an executable file or another form of output that can be executed directly by the computer's hardware or operating system\n"
   ]
  },
  {
   "cell_type": "markdown",
   "id": "91e36181",
   "metadata": {},
   "source": [
    "12.Python is an interpreted or compile language. Give a clear answer with your understanding"
   ]
  },
  {
   "cell_type": "markdown",
   "id": "211db2ed",
   "metadata": {},
   "source": [
    "\n",
    "Python is typically considered an interpreted language. However, the reality is a bit more nuanced.\n",
    "\n",
    "Python's implementation involves both interpretation and compilation. When you run a Python script or command, the Python interpreter reads the source code, parses it, compiles it into bytecode (a lower-level representation of the code), and then executes the bytecode on the Python Virtual Machine (PVM)."
   ]
  },
  {
   "cell_type": "markdown",
   "id": "6ecf716c",
   "metadata": {},
   "source": [
    "13.Try to write a use case of python with your understanding"
   ]
  },
  {
   "cell_type": "markdown",
   "id": "9b853467",
   "metadata": {},
   "source": [
    "Machine Learning: Python's scikit-learn library provides a wide range of machine learning algorithms for predictive modeling and clustering. The company can use supervised learning techniques to build models for customer segmentation, churn prediction, and product recommendation based on historical data."
   ]
  },
  {
   "cell_type": "code",
   "execution_count": null,
   "id": "3faf4cef",
   "metadata": {},
   "outputs": [],
   "source": []
  }
 ],
 "metadata": {
  "kernelspec": {
   "display_name": "Python 3 (ipykernel)",
   "language": "python",
   "name": "python3"
  },
  "language_info": {
   "codemirror_mode": {
    "name": "ipython",
    "version": 3
   },
   "file_extension": ".py",
   "mimetype": "text/x-python",
   "name": "python",
   "nbconvert_exporter": "python",
   "pygments_lexer": "ipython3",
   "version": "3.11.4"
  }
 },
 "nbformat": 4,
 "nbformat_minor": 5
}
