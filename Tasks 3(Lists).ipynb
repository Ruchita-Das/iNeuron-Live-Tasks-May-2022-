{
 "cells": [
  {
   "cell_type": "code",
   "execution_count": 5,
   "id": "2d323c12",
   "metadata": {},
   "outputs": [
    {
     "name": "stdout",
     "output_type": "stream",
     "text": [
      "ineuron \n",
      "ineuron ineuron \n",
      "ineuron ineuron ineuron \n",
      "ineuron ineuron ineuron ineuron \n"
     ]
    }
   ],
   "source": [
    "1:\n",
    "for i in range(1,5):\n",
    "    a='ineuron '\n",
    "    print(a*i)\n",
    "    "
   ]
  },
  {
   "cell_type": "code",
   "execution_count": 1,
   "id": "18de8efe",
   "metadata": {},
   "outputs": [],
   "source": [
    "l = [[1,2,3,4],(2,3,4,5,6),(3,4,5,6,7),set([23,4,5,45,4,4,5,45,45,4,5]),{'k1':'sudh','k2':'ineuron','k3':'kumar',3:6,7:8},['ineuron','data science']]\n",
    "\n",
    "     "
   ]
  },
  {
   "cell_type": "markdown",
   "id": "1aa9247d",
   "metadata": {},
   "source": [
    "3.extract all list entities"
   ]
  },
  {
   "cell_type": "code",
   "execution_count": 25,
   "id": "bc8ee044",
   "metadata": {},
   "outputs": [
    {
     "name": "stdout",
     "output_type": "stream",
     "text": [
      "1\n",
      "2\n",
      "3\n",
      "4\n",
      "ineuron\n",
      "data science\n"
     ]
    }
   ],
   "source": [
    "for items in l:\n",
    "    if type(items)==list:\n",
    "        for j in items:\n",
    "            print(j)"
   ]
  },
  {
   "cell_type": "markdown",
   "id": "336cb8ed",
   "metadata": {},
   "source": [
    "4.try to extract all dict entities"
   ]
  },
  {
   "cell_type": "code",
   "execution_count": 23,
   "id": "4b089af5",
   "metadata": {},
   "outputs": [
    {
     "name": "stdout",
     "output_type": "stream",
     "text": [
      "k1 : sudh\n",
      "k2 : ineuron\n",
      "k3 : kumar\n",
      "3 : 6\n",
      "7 : 8\n"
     ]
    }
   ],
   "source": [
    "for items in l:\n",
    "    if type(items)==dict:\n",
    "        for key,values in items.items():\n",
    "            print(key,\":\",values)"
   ]
  },
  {
   "cell_type": "markdown",
   "id": "a588ab82",
   "metadata": {},
   "source": [
    "5.try to extract all tuples entities"
   ]
  },
  {
   "cell_type": "code",
   "execution_count": 26,
   "id": "5c855321",
   "metadata": {},
   "outputs": [
    {
     "name": "stdout",
     "output_type": "stream",
     "text": [
      "2\n",
      "3\n",
      "4\n",
      "5\n",
      "6\n",
      "3\n",
      "4\n",
      "5\n",
      "6\n",
      "7\n"
     ]
    }
   ],
   "source": [
    "for elements in l:\n",
    "    if type(elements)==tuple:\n",
    "        for i in elements:\n",
    "            print(i)"
   ]
  },
  {
   "cell_type": "markdown",
   "id": "b573cec1",
   "metadata": {},
   "source": [
    "6.try to extract all numerical values that may be part of dict key and values"
   ]
  },
  {
   "cell_type": "code",
   "execution_count": 27,
   "id": "134acab7",
   "metadata": {},
   "outputs": [
    {
     "name": "stdout",
     "output_type": "stream",
     "text": [
      "3 : 6\n",
      "7 : 8\n"
     ]
    }
   ],
   "source": [
    "for element in l:\n",
    "    if type(element)==dict:\n",
    "        for k,v in element.items():\n",
    "            if type(k)==int and type(v)==int:\n",
    "                print(k,\":\",v)"
   ]
  },
  {
   "cell_type": "markdown",
   "id": "53e145b6",
   "metadata": {},
   "source": [
    "7.try to give summation of all numeric data"
   ]
  },
  {
   "cell_type": "code",
   "execution_count": 37,
   "id": "3f5a250d",
   "metadata": {},
   "outputs": [
    {
     "name": "stdout",
     "output_type": "stream",
     "text": [
      "156\n"
     ]
    }
   ],
   "source": [
    "\n",
    "sum=0\n",
    "for element in l:\n",
    "    for i in element:\n",
    "        if type(i)==int:\n",
    "            sum=sum+i\n",
    "    if  type(element)==dict:\n",
    "        for k,v in element.items():\n",
    "            if type(v)==int:\n",
    "                sum=sum+v\n",
    "print(sum)"
   ]
  },
  {
   "cell_type": "markdown",
   "id": "d470a926",
   "metadata": {},
   "source": [
    "8.try to filter out all the odd values from numeric values that belong to a list"
   ]
  },
  {
   "cell_type": "code",
   "execution_count": 7,
   "id": "c6c582a5",
   "metadata": {},
   "outputs": [
    {
     "name": "stdout",
     "output_type": "stream",
     "text": [
      "1\n",
      "3\n"
     ]
    }
   ],
   "source": [
    "for element in l:\n",
    "    if type(element)==list:\n",
    "        for item in element:\n",
    "            if type(item)==int and item % 2 != 0:\n",
    "                print(item)"
   ]
  },
  {
   "cell_type": "markdown",
   "id": "02c95c02",
   "metadata": {},
   "source": [
    "9.try to extract ineuron out of this data"
   ]
  },
  {
   "cell_type": "code",
   "execution_count": 10,
   "id": "d2389087",
   "metadata": {},
   "outputs": [
    {
     "name": "stdout",
     "output_type": "stream",
     "text": [
      "The dict one is- ineuron\n",
      "the list one is- ineuron\n"
     ]
    }
   ],
   "source": [
    "for element in l:\n",
    "    if type(element)==dict:\n",
    "        for k,v in element.items():\n",
    "            if v=='ineuron':\n",
    "                print(\"The dict one is-\",v)\n",
    "    elif type(element)==list:\n",
    "        for i in element:\n",
    "            if i=='ineuron':\n",
    "                print(\"the list one is-\",i)"
   ]
  },
  {
   "cell_type": "code",
   "execution_count": 11,
   "id": "8ae58b82",
   "metadata": {},
   "outputs": [
    {
     "name": "stdout",
     "output_type": "stream",
     "text": [
      "[1, 2, 3, 4, 2, 3, 4, 5, 6, 3, 4, 5, 6, 7, 45, 4, 5, 23, 'k1', 'k2', 'k3', 3, 7, 'ineuron', 'data science']\n"
     ]
    }
   ],
   "source": [
    "c=[]\n",
    "for element in l:\n",
    "    for i in element:\n",
    "        c.append(i)\n",
    "print(c)\n"
   ]
  },
  {
   "cell_type": "code",
   "execution_count": 20,
   "id": "41b425c8",
   "metadata": {},
   "outputs": [
    {
     "name": "stdout",
     "output_type": "stream",
     "text": [
      "1 appears 1 times\n",
      "2 appears 2 times\n",
      "3 appears 4 times\n",
      "4 appears 4 times\n",
      "5 appears 3 times\n",
      "6 appears 2 times\n",
      "7 appears 2 times\n",
      "45 appears 1 times\n",
      "23 appears 1 times\n",
      "k1 appears 1 times\n",
      "k2 appears 1 times\n",
      "k3 appears 1 times\n",
      "ineuron appears 1 times\n",
      "data science appears 1 times\n"
     ]
    }
   ],
   "source": [
    "# Count occurrences of each element\n",
    "occurrences = Counter(c)\n",
    "\n",
    "# Print the occurrences\n",
    "for item, count in occurrences.items():\n",
    "    print(f\"{item} appears {count} times\")"
   ]
  },
  {
   "cell_type": "markdown",
   "id": "71e5bf55",
   "metadata": {},
   "source": [
    "11.try to find out number of keys in dict element"
   ]
  },
  {
   "cell_type": "code",
   "execution_count": 25,
   "id": "dc3d2ab2",
   "metadata": {
    "scrolled": true
   },
   "outputs": [
    {
     "name": "stdout",
     "output_type": "stream",
     "text": [
      "5\n"
     ]
    }
   ],
   "source": [
    "count_ofkeys=[]\n",
    "for element in l:\n",
    "    if type(element)==dict:\n",
    "        for key in element.items():\n",
    "            count_ofkeys.append(key)\n",
    "print(len(count_ofkeys))\n",
    "    "
   ]
  },
  {
   "cell_type": "markdown",
   "id": "7e9f709d",
   "metadata": {},
   "source": [
    "12.try to filter out all string data"
   ]
  },
  {
   "cell_type": "code",
   "execution_count": 40,
   "id": "fb1975f6",
   "metadata": {},
   "outputs": [
    {
     "name": "stdout",
     "output_type": "stream",
     "text": [
      "k1\n",
      "sudh\n",
      "k2\n",
      "ineuron\n",
      "k3\n",
      "kumar\n",
      "ineuron\n",
      "data science\n"
     ]
    }
   ],
   "source": [
    "for element in l:\n",
    "    if type(element)==list:\n",
    "        for i in element:\n",
    "            if type(i)==str:\n",
    "                print(i)\n",
    "    elif type(element)==dict:\n",
    "        for key,value in element.items():\n",
    "            if type(key)!=int and type(value)!=int:\n",
    "                print(key)\n",
    "                print(value)\n",
    "    "
   ]
  },
  {
   "cell_type": "markdown",
   "id": "6de1d873",
   "metadata": {},
   "source": [
    "13.try to find out all alphanum in data"
   ]
  },
  {
   "cell_type": "code",
   "execution_count": 47,
   "id": "8ec4ecda",
   "metadata": {},
   "outputs": [
    {
     "name": "stdout",
     "output_type": "stream",
     "text": [
      "there are no alphanumeric data\n"
     ]
    }
   ],
   "source": [
    "p=[]\n",
    "for i in l:\n",
    "    if type(i)==str and i.isalnum():\n",
    "        p.append(i)\n",
    "if len(p)==0:\n",
    "    print('there are no alphanumeric data')"
   ]
  },
  {
   "cell_type": "markdown",
   "id": "8b38bec7",
   "metadata": {},
   "source": [
    "14.try to find multiplication of all numeric value in the individual collection in the dataset"
   ]
  },
  {
   "cell_type": "code",
   "execution_count": 12,
   "id": "acfa8518",
   "metadata": {},
   "outputs": [
    {
     "name": "stdout",
     "output_type": "stream",
     "text": [
      "The multiplication of all numeric value in the list inside the list is: 24\n",
      "The multiplication of all numeric value in the tuples inside the list is: 1814400\n",
      "The multiplication of all numeric value in the set inside the list is: 20700\n",
      "The multiplication of all numeric value in the dictionary inside the list is: 1008\n"
     ]
    }
   ],
   "source": [
    "mul=1\n",
    "mul1=1\n",
    "mul2=1\n",
    "mul3=1\n",
    "for i in l:\n",
    "    if type(i)==list:\n",
    "        for j in i:\n",
    "            if type(j)==int:\n",
    "                mul=mul*j\n",
    "    if type(i)==tuple:\n",
    "         for j in i:\n",
    "            mul1=mul1*j\n",
    "    if type(i)==set:\n",
    "        for j in i:\n",
    "            mul2=mul2*j\n",
    "    if type(i)==dict:\n",
    "        for k,v in i.items():\n",
    "            if type(k)==int and type(v)==int:\n",
    "                mul3=mul3*k*v\n",
    "    \n",
    "print('The multiplication of all numeric value in the list inside the list is:',mul)        \n",
    "print('The multiplication of all numeric value in the tuples inside the list is:',mul1)\n",
    "print('The multiplication of all numeric value in the set inside the list is:',mul2)\n",
    "print('The multiplication of all numeric value in the dictionary inside the list is:',mul3)\n"
   ]
  },
  {
   "cell_type": "markdown",
   "id": "94d08396",
   "metadata": {},
   "source": [
    "15.try to unwrap all collection inside collection and create a flat list"
   ]
  },
  {
   "cell_type": "code",
   "execution_count": 15,
   "id": "182ab5df",
   "metadata": {},
   "outputs": [
    {
     "name": "stdout",
     "output_type": "stream",
     "text": [
      "The flattended list is: [1, 2, 3, 4, 2, 3, 4, 5, 6, 3, 4, 5, 6, 7, 45, 4, 5, 23, 'k1', 'k2', 'k3', 3, 7, 'ineuron', 'data science']\n"
     ]
    }
   ],
   "source": [
    "c=[]\n",
    "for element in l:\n",
    "    for i in element:\n",
    "        c.append(i)\n",
    "print(\"The flattended list is:\",c)"
   ]
  },
  {
   "cell_type": "code",
   "execution_count": 18,
   "id": "2933aa04",
   "metadata": {},
   "outputs": [
    {
     "name": "stdout",
     "output_type": "stream",
     "text": [
      "[1, 2, 3, 4, 2, 3, 4, 5, 6, 3, 4, 5, 6, 7, 45, 4, 5, 23, 'k1', 'sudh', 'k2', 'ineuron', 'k3', 'kumar', 3, 6, 7, 8, 'ineuron', 'data science']\n"
     ]
    }
   ],
   "source": [
    "l = [[1,2,3,4], (2,3,4,5,6), (3,4,5,6,7), set([23,4,5,45,4,4,5,45,45,4,5]), {'k1':'sudh','k2':'ineuron','k3':'kumar',3:6,7:8}, ['ineuron','data science']]\n",
    "\n",
    "def unwrap_collections(lst):\n",
    "    flat_list = []\n",
    "    for item in lst:\n",
    "        if isinstance(item, (list, tuple, set)):\n",
    "            flat_list.extend(unwrap_collections(item))\n",
    "        elif isinstance(item, dict):\n",
    "            for key, value in item.items():\n",
    "                flat_list.append(key)\n",
    "                flat_list.append(value)\n",
    "        else:\n",
    "            flat_list.append(item)\n",
    "    return flat_list\n",
    "\n",
    "flat_list = unwrap_collections(l)\n",
    "print(flat_list)\n"
   ]
  },
  {
   "cell_type": "code",
   "execution_count": null,
   "id": "5f0aa320",
   "metadata": {},
   "outputs": [],
   "source": []
  },
  {
   "cell_type": "code",
   "execution_count": null,
   "id": "8240dd3b",
   "metadata": {},
   "outputs": [],
   "source": []
  }
 ],
 "metadata": {
  "kernelspec": {
   "display_name": "Python 3 (ipykernel)",
   "language": "python",
   "name": "python3"
  },
  "language_info": {
   "codemirror_mode": {
    "name": "ipython",
    "version": 3
   },
   "file_extension": ".py",
   "mimetype": "text/x-python",
   "name": "python",
   "nbconvert_exporter": "python",
   "pygments_lexer": "ipython3",
   "version": "3.11.4"
  }
 },
 "nbformat": 4,
 "nbformat_minor": 5
}
